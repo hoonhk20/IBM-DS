{
  "nbformat": 4,
  "nbformat_minor": 0,
  "metadata": {
    "colab": {
      "provenance": []
    },
    "kernelspec": {
      "name": "python3",
      "display_name": "Python 3"
    },
    "language_info": {
      "name": "python"
    }
  },
  "cells": [
    {
      "cell_type": "markdown",
      "source": [
        "# :Data Science Tools and Ecosystem"
      ],
      "metadata": {
        "id": "UPjMt4-spEkU"
      }
    },
    {
      "cell_type": "markdown",
      "source": [
        "In this notebook, Data Science Tools and Ecosystem are summarized.\n"
      ],
      "metadata": {
        "id": "alzcXwAApj4s"
      }
    },
    {
      "cell_type": "markdown",
      "source": [
        "Some of the popular languages that Data Scientists use are:\n",
        "\n",
        "\n",
        "1.   Python\n",
        "2.   R\n",
        "3.   C++\n",
        "\n"
      ],
      "metadata": {
        "id": "JlAD6sWipl-t"
      }
    },
    {
      "cell_type": "markdown",
      "source": [
        "| Data Science Tools |"
      ],
      "metadata": {
        "id": "6lmLNREOqpfK"
      }
    },
    {
      "cell_type": "markdown",
      "source": [
        "Some of the commonly used libraries used by Data Scientists include:\n",
        "\n",
        "\n",
        "1.   Numpy\n",
        "2.   Pandas\n",
        "3.   sklearn\n",
        "\n"
      ],
      "metadata": {
        "id": "VQ1U2SLepmp9"
      }
    },
    {
      "cell_type": "markdown",
      "source": [
        "###Below are a few examples of evaluating arithmetic expressions in Python"
      ],
      "metadata": {
        "id": "GB0ZqdZIpmsr"
      }
    },
    {
      "cell_type": "code",
      "source": [
        "(3*4)+5\n",
        "#This a simple arithmetic expression to mutiply then add integers."
      ],
      "metadata": {
        "colab": {
          "base_uri": "https://localhost:8080/"
        },
        "id": "b0j5AeN2os9h",
        "outputId": "358fe6cf-1edc-4f6c-a2b5-ed6a7ad41afa"
      },
      "execution_count": 5,
      "outputs": [
        {
          "output_type": "execute_result",
          "data": {
            "text/plain": [
              "17"
            ]
          },
          "metadata": {},
          "execution_count": 5
        }
      ]
    },
    {
      "cell_type": "code",
      "source": [
        "# This will convert 200 minutes to hours by dividing by 60\n",
        "minutes = 200\n",
        "hours = minutes / 60\n",
        "hours"
      ],
      "metadata": {
        "colab": {
          "base_uri": "https://localhost:8080/"
        },
        "id": "7hUDZZkgos_o",
        "outputId": "495bce20-897d-41bc-85ae-e42d594188db"
      },
      "execution_count": 6,
      "outputs": [
        {
          "output_type": "execute_result",
          "data": {
            "text/plain": [
              "3.3333333333333335"
            ]
          },
          "metadata": {},
          "execution_count": 6
        }
      ]
    },
    {
      "cell_type": "markdown",
      "source": [
        "**Objectives:**\n",
        "\n",
        "- List popular languages for Data Science\n",
        "- Describe what data science is\n",
        "- Explain the importance of data science\n",
        "- Convert units (e.g., minutes to hours)\n",
        "- Create and use different types of cells in a Jupyter Notebook"
      ],
      "metadata": {
        "id": "F58KRRbar-62"
      }
    },
    {
      "cell_type": "markdown",
      "source": [
        "## Author\n",
        "Seunghoon Yang\n"
      ],
      "metadata": {
        "id": "EujpOI-nsCet"
      }
    }
  ]
}